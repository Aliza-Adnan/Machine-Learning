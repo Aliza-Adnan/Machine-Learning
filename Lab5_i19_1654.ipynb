{
  "cells": [
    {
      "cell_type": "code",
      "execution_count": null,
      "metadata": {
        "id": "Msmqw8v-GXeo"
      },
      "outputs": [],
      "source": [
        "import numpy as np\n",
        "import pandas as pd"
      ]
    },
    {
      "cell_type": "code",
      "execution_count": null,
      "metadata": {
        "id": "xEOqt1Q9GXev"
      },
      "outputs": [],
      "source": [
        "data=pd.read_csv(\"BreastCancer.csv\")"
      ]
    },
    {
      "cell_type": "code",
      "execution_count": null,
      "metadata": {
        "id": "h6ESyGtYGXex",
        "outputId": "30764e10-a4cd-401c-89a0-f904d42f2617"
      },
      "outputs": [
        {
          "data": {
            "text/html": [
              "<div>\n",
              "<style scoped>\n",
              "    .dataframe tbody tr th:only-of-type {\n",
              "        vertical-align: middle;\n",
              "    }\n",
              "\n",
              "    .dataframe tbody tr th {\n",
              "        vertical-align: top;\n",
              "    }\n",
              "\n",
              "    .dataframe thead th {\n",
              "        text-align: right;\n",
              "    }\n",
              "</style>\n",
              "<table border=\"1\" class=\"dataframe\">\n",
              "  <thead>\n",
              "    <tr style=\"text-align: right;\">\n",
              "      <th></th>\n",
              "      <th>Class</th>\n",
              "      <th>age</th>\n",
              "      <th>menopause</th>\n",
              "      <th>tumor_size</th>\n",
              "      <th>inv_nodes</th>\n",
              "      <th>nodecaps</th>\n",
              "      <th>deg_malig</th>\n",
              "      <th>breast</th>\n",
              "      <th>breast_quad</th>\n",
              "      <th>irradiat</th>\n",
              "    </tr>\n",
              "  </thead>\n",
              "  <tbody>\n",
              "    <tr>\n",
              "      <td>0</td>\n",
              "      <td>no-recurrence-events</td>\n",
              "      <td>30-39</td>\n",
              "      <td>premeno</td>\n",
              "      <td>30-34</td>\n",
              "      <td>0-2</td>\n",
              "      <td>no</td>\n",
              "      <td>3</td>\n",
              "      <td>left</td>\n",
              "      <td>left_low</td>\n",
              "      <td>no</td>\n",
              "    </tr>\n",
              "    <tr>\n",
              "      <td>1</td>\n",
              "      <td>no-recurrence-events</td>\n",
              "      <td>40-49</td>\n",
              "      <td>premeno</td>\n",
              "      <td>20-24</td>\n",
              "      <td>0-2</td>\n",
              "      <td>no</td>\n",
              "      <td>2</td>\n",
              "      <td>right</td>\n",
              "      <td>right_up</td>\n",
              "      <td>no</td>\n",
              "    </tr>\n",
              "    <tr>\n",
              "      <td>2</td>\n",
              "      <td>no-recurrence-events</td>\n",
              "      <td>40-49</td>\n",
              "      <td>premeno</td>\n",
              "      <td>20-24</td>\n",
              "      <td>0-2</td>\n",
              "      <td>no</td>\n",
              "      <td>2</td>\n",
              "      <td>left</td>\n",
              "      <td>left_low</td>\n",
              "      <td>no</td>\n",
              "    </tr>\n",
              "    <tr>\n",
              "      <td>3</td>\n",
              "      <td>no-recurrence-events</td>\n",
              "      <td>60-69</td>\n",
              "      <td>ge40</td>\n",
              "      <td>15-19</td>\n",
              "      <td>0-2</td>\n",
              "      <td>no</td>\n",
              "      <td>2</td>\n",
              "      <td>right</td>\n",
              "      <td>left_up</td>\n",
              "      <td>no</td>\n",
              "    </tr>\n",
              "    <tr>\n",
              "      <td>4</td>\n",
              "      <td>no-recurrence-events</td>\n",
              "      <td>40-49</td>\n",
              "      <td>premeno</td>\n",
              "      <td>0-4</td>\n",
              "      <td>0-2</td>\n",
              "      <td>no</td>\n",
              "      <td>2</td>\n",
              "      <td>right</td>\n",
              "      <td>right_low</td>\n",
              "      <td>no</td>\n",
              "    </tr>\n",
              "    <tr>\n",
              "      <td>...</td>\n",
              "      <td>...</td>\n",
              "      <td>...</td>\n",
              "      <td>...</td>\n",
              "      <td>...</td>\n",
              "      <td>...</td>\n",
              "      <td>...</td>\n",
              "      <td>...</td>\n",
              "      <td>...</td>\n",
              "      <td>...</td>\n",
              "      <td>...</td>\n",
              "    </tr>\n",
              "    <tr>\n",
              "      <td>281</td>\n",
              "      <td>recurrence-events</td>\n",
              "      <td>30-39</td>\n",
              "      <td>premeno</td>\n",
              "      <td>30-34</td>\n",
              "      <td>0-2</td>\n",
              "      <td>no</td>\n",
              "      <td>2</td>\n",
              "      <td>left</td>\n",
              "      <td>left_up</td>\n",
              "      <td>no</td>\n",
              "    </tr>\n",
              "    <tr>\n",
              "      <td>282</td>\n",
              "      <td>recurrence-events</td>\n",
              "      <td>30-39</td>\n",
              "      <td>premeno</td>\n",
              "      <td>20-24</td>\n",
              "      <td>0-2</td>\n",
              "      <td>no</td>\n",
              "      <td>3</td>\n",
              "      <td>left</td>\n",
              "      <td>left_up</td>\n",
              "      <td>yes</td>\n",
              "    </tr>\n",
              "    <tr>\n",
              "      <td>283</td>\n",
              "      <td>recurrence-events</td>\n",
              "      <td>60-69</td>\n",
              "      <td>ge40</td>\n",
              "      <td>20-24</td>\n",
              "      <td>0-2</td>\n",
              "      <td>no</td>\n",
              "      <td>1</td>\n",
              "      <td>right</td>\n",
              "      <td>left_up</td>\n",
              "      <td>no</td>\n",
              "    </tr>\n",
              "    <tr>\n",
              "      <td>284</td>\n",
              "      <td>recurrence-events</td>\n",
              "      <td>40-49</td>\n",
              "      <td>ge40</td>\n",
              "      <td>30-34</td>\n",
              "      <td>3-5</td>\n",
              "      <td>no</td>\n",
              "      <td>3</td>\n",
              "      <td>left</td>\n",
              "      <td>left_low</td>\n",
              "      <td>no</td>\n",
              "    </tr>\n",
              "    <tr>\n",
              "      <td>285</td>\n",
              "      <td>recurrence-events</td>\n",
              "      <td>50-59</td>\n",
              "      <td>ge40</td>\n",
              "      <td>30-34</td>\n",
              "      <td>3-5</td>\n",
              "      <td>no</td>\n",
              "      <td>3</td>\n",
              "      <td>left</td>\n",
              "      <td>left_low</td>\n",
              "      <td>no</td>\n",
              "    </tr>\n",
              "  </tbody>\n",
              "</table>\n",
              "<p>286 rows × 10 columns</p>\n",
              "</div>"
            ],
            "text/plain": [
              "                    Class    age menopause tumor_size inv_nodes nodecaps  \\\n",
              "0    no-recurrence-events  30-39   premeno      30-34       0-2       no   \n",
              "1    no-recurrence-events  40-49   premeno      20-24       0-2       no   \n",
              "2    no-recurrence-events  40-49   premeno      20-24       0-2       no   \n",
              "3    no-recurrence-events  60-69      ge40      15-19       0-2       no   \n",
              "4    no-recurrence-events  40-49   premeno        0-4       0-2       no   \n",
              "..                    ...    ...       ...        ...       ...      ...   \n",
              "281     recurrence-events  30-39   premeno      30-34       0-2       no   \n",
              "282     recurrence-events  30-39   premeno      20-24       0-2       no   \n",
              "283     recurrence-events  60-69      ge40      20-24       0-2       no   \n",
              "284     recurrence-events  40-49      ge40      30-34       3-5       no   \n",
              "285     recurrence-events  50-59      ge40      30-34       3-5       no   \n",
              "\n",
              "     deg_malig breast breast_quad irradiat  \n",
              "0            3   left    left_low       no  \n",
              "1            2  right    right_up       no  \n",
              "2            2   left    left_low       no  \n",
              "3            2  right     left_up       no  \n",
              "4            2  right   right_low       no  \n",
              "..         ...    ...         ...      ...  \n",
              "281          2   left     left_up       no  \n",
              "282          3   left     left_up      yes  \n",
              "283          1  right     left_up       no  \n",
              "284          3   left    left_low       no  \n",
              "285          3   left    left_low       no  \n",
              "\n",
              "[286 rows x 10 columns]"
            ]
          },
          "execution_count": 102,
          "metadata": {},
          "output_type": "execute_result"
        }
      ],
      "source": [
        "data"
      ]
    },
    {
      "cell_type": "code",
      "execution_count": null,
      "metadata": {
        "id": "6qM_lEFEGXe0"
      },
      "outputs": [],
      "source": [
        "y=data.Class\n",
        "X=data.drop('Class',axis=1)\n",
        "from sklearn.model_selection import train_test_split\n",
        "X_train, X_test, y_train, y_test = train_test_split(X, y, test_size=0.1, random_state=42)\n"
      ]
    },
    {
      "cell_type": "code",
      "execution_count": null,
      "metadata": {
        "id": "o0lN3UvhGXe2",
        "outputId": "cfe3431d-d477-4d4e-a054-bb22c8cf9492"
      },
      "outputs": [
        {
          "name": "stdout",
          "output_type": "stream",
          "text": [
            "73\n"
          ]
        }
      ],
      "source": [
        "dr=y_train[y_train =='recurrence-events'].count()\n",
        "print(dr)"
      ]
    },
    {
      "cell_type": "code",
      "execution_count": null,
      "metadata": {
        "id": "SpZdSKbMGXe3",
        "outputId": "1ab60078-6e2e-4999-dd6f-e7fa2820e69d"
      },
      "outputs": [
        {
          "name": "stdout",
          "output_type": "stream",
          "text": [
            "184\n"
          ]
        }
      ],
      "source": [
        "dnr=y_train[y_train =='no-recurrence-events'].count()\n",
        "print(dnr)"
      ]
    },
    {
      "cell_type": "code",
      "execution_count": null,
      "metadata": {
        "id": "ckF95oWnGXe5"
      },
      "outputs": [],
      "source": [
        "tot=y_train.count()"
      ]
    },
    {
      "cell_type": "code",
      "execution_count": null,
      "metadata": {
        "id": "AhJ6bhxHGXe6"
      },
      "outputs": [],
      "source": [
        "prob_nor=round(dnr/tot,2)\n",
        "prob_or=round(dr/tot,2)"
      ]
    },
    {
      "cell_type": "code",
      "execution_count": null,
      "metadata": {
        "id": "9qiI6hl_GXe7",
        "outputId": "8baf6a15-42f4-4962-fdf0-a1792d890015"
      },
      "outputs": [
        {
          "name": "stdout",
          "output_type": "stream",
          "text": [
            "0.72 0.28\n"
          ]
        }
      ],
      "source": [
        "print(prob_nor,prob_or)"
      ]
    },
    {
      "cell_type": "code",
      "execution_count": null,
      "metadata": {
        "id": "PitZaBpVGXe8"
      },
      "outputs": [],
      "source": [
        "prob=[]\n",
        "rec=y_train[y_train =='recurrence-events']\n",
        "non_rec=y_train[y_train =='no-recurrence-events']\n",
        "c=X_test.count()\n"
      ]
    },
    {
      "cell_type": "code",
      "execution_count": null,
      "metadata": {
        "id": "faHPiHxTGXe9"
      },
      "outputs": [],
      "source": [
        "recl=rec.index.tolist()\n",
        "nrecl=non_rec.index.tolist()\n",
        "nrecl=X_train.filter(items=nrecl,axis=0)\n",
        "recl=X_train.filter(items=recl,axis=0)"
      ]
    },
    {
      "cell_type": "code",
      "execution_count": null,
      "metadata": {
        "id": "4gj8tfshGXe-",
        "outputId": "3aa9f483-3f84-4eb7-e859-e9f4804643cf"
      },
      "outputs": [
        {
          "data": {
            "text/html": [
              "<div>\n",
              "<style scoped>\n",
              "    .dataframe tbody tr th:only-of-type {\n",
              "        vertical-align: middle;\n",
              "    }\n",
              "\n",
              "    .dataframe tbody tr th {\n",
              "        vertical-align: top;\n",
              "    }\n",
              "\n",
              "    .dataframe thead th {\n",
              "        text-align: right;\n",
              "    }\n",
              "</style>\n",
              "<table border=\"1\" class=\"dataframe\">\n",
              "  <thead>\n",
              "    <tr style=\"text-align: right;\">\n",
              "      <th></th>\n",
              "      <th>age</th>\n",
              "      <th>menopause</th>\n",
              "      <th>tumor_size</th>\n",
              "      <th>inv_nodes</th>\n",
              "      <th>nodecaps</th>\n",
              "      <th>deg_malig</th>\n",
              "      <th>breast</th>\n",
              "      <th>breast_quad</th>\n",
              "      <th>irradiat</th>\n",
              "    </tr>\n",
              "  </thead>\n",
              "  <tbody>\n",
              "    <tr>\n",
              "      <td>42</td>\n",
              "      <td>60-69</td>\n",
              "      <td>ge40</td>\n",
              "      <td>5-9</td>\n",
              "      <td>0-2</td>\n",
              "      <td>no</td>\n",
              "      <td>1</td>\n",
              "      <td>left</td>\n",
              "      <td>central</td>\n",
              "      <td>no</td>\n",
              "    </tr>\n",
              "    <tr>\n",
              "      <td>84</td>\n",
              "      <td>40-49</td>\n",
              "      <td>premeno</td>\n",
              "      <td>20-24</td>\n",
              "      <td>0-2</td>\n",
              "      <td>no</td>\n",
              "      <td>1</td>\n",
              "      <td>left</td>\n",
              "      <td>right_low</td>\n",
              "      <td>no</td>\n",
              "    </tr>\n",
              "    <tr>\n",
              "      <td>93</td>\n",
              "      <td>60-69</td>\n",
              "      <td>ge40</td>\n",
              "      <td>20-24</td>\n",
              "      <td>0-2</td>\n",
              "      <td>no</td>\n",
              "      <td>2</td>\n",
              "      <td>right</td>\n",
              "      <td>left_up</td>\n",
              "      <td>no</td>\n",
              "    </tr>\n",
              "    <tr>\n",
              "      <td>46</td>\n",
              "      <td>40-49</td>\n",
              "      <td>premeno</td>\n",
              "      <td>25-29</td>\n",
              "      <td>0-2</td>\n",
              "      <td>no</td>\n",
              "      <td>2</td>\n",
              "      <td>right</td>\n",
              "      <td>left_low</td>\n",
              "      <td>no</td>\n",
              "    </tr>\n",
              "    <tr>\n",
              "      <td>63</td>\n",
              "      <td>20-29</td>\n",
              "      <td>premeno</td>\n",
              "      <td>35-39</td>\n",
              "      <td>0-2</td>\n",
              "      <td>no</td>\n",
              "      <td>2</td>\n",
              "      <td>right</td>\n",
              "      <td>right_up</td>\n",
              "      <td>no</td>\n",
              "    </tr>\n",
              "    <tr>\n",
              "      <td>...</td>\n",
              "      <td>...</td>\n",
              "      <td>...</td>\n",
              "      <td>...</td>\n",
              "      <td>...</td>\n",
              "      <td>...</td>\n",
              "      <td>...</td>\n",
              "      <td>...</td>\n",
              "      <td>...</td>\n",
              "      <td>...</td>\n",
              "    </tr>\n",
              "    <tr>\n",
              "      <td>20</td>\n",
              "      <td>50-59</td>\n",
              "      <td>ge40</td>\n",
              "      <td>40-44</td>\n",
              "      <td>0-2</td>\n",
              "      <td>no</td>\n",
              "      <td>2</td>\n",
              "      <td>left</td>\n",
              "      <td>left_low</td>\n",
              "      <td>no</td>\n",
              "    </tr>\n",
              "    <tr>\n",
              "      <td>188</td>\n",
              "      <td>40-49</td>\n",
              "      <td>premeno</td>\n",
              "      <td>10-14</td>\n",
              "      <td>0-2</td>\n",
              "      <td>no</td>\n",
              "      <td>2</td>\n",
              "      <td>right</td>\n",
              "      <td>left_up</td>\n",
              "      <td>no</td>\n",
              "    </tr>\n",
              "    <tr>\n",
              "      <td>71</td>\n",
              "      <td>40-49</td>\n",
              "      <td>premeno</td>\n",
              "      <td>25-29</td>\n",
              "      <td>0-2</td>\n",
              "      <td>no</td>\n",
              "      <td>2</td>\n",
              "      <td>right</td>\n",
              "      <td>left_up</td>\n",
              "      <td>no</td>\n",
              "    </tr>\n",
              "    <tr>\n",
              "      <td>106</td>\n",
              "      <td>40-49</td>\n",
              "      <td>premeno</td>\n",
              "      <td>20-24</td>\n",
              "      <td>0-2</td>\n",
              "      <td>no</td>\n",
              "      <td>2</td>\n",
              "      <td>left</td>\n",
              "      <td>left_up</td>\n",
              "      <td>no</td>\n",
              "    </tr>\n",
              "    <tr>\n",
              "      <td>102</td>\n",
              "      <td>50-59</td>\n",
              "      <td>premeno</td>\n",
              "      <td>25-29</td>\n",
              "      <td>0-2</td>\n",
              "      <td>no</td>\n",
              "      <td>2</td>\n",
              "      <td>right</td>\n",
              "      <td>right_low</td>\n",
              "      <td>no</td>\n",
              "    </tr>\n",
              "  </tbody>\n",
              "</table>\n",
              "<p>184 rows × 9 columns</p>\n",
              "</div>"
            ],
            "text/plain": [
              "       age menopause tumor_size inv_nodes nodecaps  deg_malig breast  \\\n",
              "42   60-69      ge40        5-9       0-2       no          1   left   \n",
              "84   40-49   premeno      20-24       0-2       no          1   left   \n",
              "93   60-69      ge40      20-24       0-2       no          2  right   \n",
              "46   40-49   premeno      25-29       0-2       no          2  right   \n",
              "63   20-29   premeno      35-39       0-2       no          2  right   \n",
              "..     ...       ...        ...       ...      ...        ...    ...   \n",
              "20   50-59      ge40      40-44       0-2       no          2   left   \n",
              "188  40-49   premeno      10-14       0-2       no          2  right   \n",
              "71   40-49   premeno      25-29       0-2       no          2  right   \n",
              "106  40-49   premeno      20-24       0-2       no          2   left   \n",
              "102  50-59   premeno      25-29       0-2       no          2  right   \n",
              "\n",
              "    breast_quad irradiat  \n",
              "42      central       no  \n",
              "84    right_low       no  \n",
              "93      left_up       no  \n",
              "46     left_low       no  \n",
              "63     right_up       no  \n",
              "..          ...      ...  \n",
              "20     left_low       no  \n",
              "188     left_up       no  \n",
              "71      left_up       no  \n",
              "106     left_up       no  \n",
              "102   right_low       no  \n",
              "\n",
              "[184 rows x 9 columns]"
            ]
          },
          "execution_count": 129,
          "metadata": {},
          "output_type": "execute_result"
        }
      ],
      "source": [
        "\n",
        "nrecl\n"
      ]
    },
    {
      "cell_type": "code",
      "execution_count": null,
      "metadata": {
        "id": "fgJPXOowGXe-"
      },
      "outputs": [],
      "source": [
        "def predict(nrecl,recl,X_test):\n",
        "    test=[]\n",
        "\n",
        "    for i in range(len(X_test)):\n",
        "        d=1\n",
        "        for j in range(9):\n",
        "            a=X_test.iloc[i, j]\n",
        "\n",
        "\n",
        "            l=len(nrecl)\n",
        "            d=d* (((nrecl[nrecl.iloc[:,j]==a]).shape[0])/l)\n",
        "           # print(a)\n",
        "        pr0=d*prob_nor\n",
        "        #print(d)\n",
        "        d=1\n",
        "        for k in range(9):\n",
        "            a=X_test.iloc[i, k]\n",
        "            ld=len(recl)\n",
        "            d=d*((recl[recl.iloc[:,k]==a]).shape[0]/ld)\n",
        "        pr1=d*prob_or\n",
        "        #print(pr1,pr0)\n",
        "        if pr0 < pr1:\n",
        "            test.append('recurrence-events')\n",
        "        else:\n",
        "            test.append('no-recurrence-events')\n",
        "    return test\n",
        "\n",
        "\n",
        "\n",
        "\n",
        "\n",
        "\n",
        "\n",
        ""
      ]
    },
    {
      "cell_type": "code",
      "execution_count": null,
      "metadata": {
        "id": "xI2oPMlmGXe_",
        "outputId": "e546b24e-7acb-4a90-f8b6-a443692b1942"
      },
      "outputs": [
        {
          "data": {
            "text/plain": [
              "['no-recurrence-events',\n",
              " 'no-recurrence-events',\n",
              " 'no-recurrence-events',\n",
              " 'no-recurrence-events',\n",
              " 'recurrence-events',\n",
              " 'no-recurrence-events',\n",
              " 'no-recurrence-events',\n",
              " 'no-recurrence-events',\n",
              " 'no-recurrence-events',\n",
              " 'no-recurrence-events',\n",
              " 'recurrence-events',\n",
              " 'no-recurrence-events',\n",
              " 'no-recurrence-events',\n",
              " 'recurrence-events',\n",
              " 'no-recurrence-events',\n",
              " 'no-recurrence-events',\n",
              " 'no-recurrence-events',\n",
              " 'no-recurrence-events',\n",
              " 'no-recurrence-events',\n",
              " 'no-recurrence-events',\n",
              " 'recurrence-events',\n",
              " 'no-recurrence-events',\n",
              " 'no-recurrence-events',\n",
              " 'no-recurrence-events',\n",
              " 'no-recurrence-events',\n",
              " 'recurrence-events',\n",
              " 'recurrence-events',\n",
              " 'no-recurrence-events',\n",
              " 'no-recurrence-events']"
            ]
          },
          "execution_count": 143,
          "metadata": {},
          "output_type": "execute_result"
        }
      ],
      "source": [
        "predict(nrecl,recl,X_test)"
      ]
    },
    {
      "cell_type": "code",
      "execution_count": null,
      "metadata": {
        "id": "oywf5_UmGXfA"
      },
      "outputs": [],
      "source": []
    }
  ],
  "metadata": {
    "kernelspec": {
      "display_name": "Python 3",
      "language": "python",
      "name": "python3"
    },
    "language_info": {
      "codemirror_mode": {
        "name": "ipython",
        "version": 3
      },
      "file_extension": ".py",
      "mimetype": "text/x-python",
      "name": "python",
      "nbconvert_exporter": "python",
      "pygments_lexer": "ipython3",
      "version": "3.7.4"
    },
    "colab": {
      "provenance": []
    }
  },
  "nbformat": 4,
  "nbformat_minor": 0
}