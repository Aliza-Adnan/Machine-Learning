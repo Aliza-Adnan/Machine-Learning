{
  "nbformat": 4,
  "nbformat_minor": 0,
  "metadata": {
    "colab": {
      "name": "i191654_i191734_J_MLProject.ipynb",
      "provenance": [],
      "collapsed_sections": []
    },
    "kernelspec": {
      "name": "python3",
      "display_name": "Python 3"
    },
    "language_info": {
      "name": "python"
    },
    "accelerator": "GPU"
  },
  "cells": [
    {
      "cell_type": "code",
      "execution_count": 1,
      "metadata": {
        "colab": {
          "base_uri": "https://localhost:8080/"
        },
        "id": "qbMpYj-JIhlD",
        "outputId": "8d9c7497-c857-4409-ffa8-d36eea8f1d5a"
      },
      "outputs": [
        {
          "output_type": "stream",
          "name": "stdout",
          "text": [
            "Mounted at /content/drive\n"
          ]
        }
      ],
      "source": [
        "from google.colab import drive\n",
        "drive.mount('/content/drive')"
      ]
    },
    {
      "cell_type": "code",
      "source": [
        "import torch\n",
        "import torch.nn as nn\n",
        "import torch.optim as optim\n",
        "import torch.nn.functional as F\n",
        "import numpy as np\n",
        "import torchvision\n",
        "from torchvision import *\n",
        "from torch.utils.data import Dataset, DataLoader\n",
        "\n",
        "import matplotlib.pyplot as plt\n",
        "import time\n",
        "import copy\n",
        "import os\n",
        "\n",
        "\n",
        "#import hiddenlayer as hl\n",
        "\n",
        "import pandas as pd\n",
        "import seaborn as sns\n",
        "import matplotlib.pyplot as plt\n",
        "import sklearn"
      ],
      "metadata": {
        "id": "i8l2RxtVInUw"
      },
      "execution_count": 2,
      "outputs": []
    },
    {
      "cell_type": "code",
      "source": [
        "batch_size = 16\n",
        "learning_rate = 0.9\n",
        "\n",
        "transforms = transforms.Compose(\n",
        "[transforms.Resize((224,224)),\n",
        "    transforms.ToTensor()\n",
        "])\n",
        "\n",
        "train_dataset = datasets.ImageFolder(root='/content/drive/MyDrive/Training', transform=transforms)\n",
        "test_dataset = datasets.ImageFolder(root='/content/drive/MyDrive/Test', transform=transforms)\n",
        "\n",
        "train_dataloader = DataLoader(train_dataset, batch_size=batch_size, shuffle=False)\n",
        "test_dataloader = DataLoader(test_dataset, batch_size=batch_size, shuffle=False)\n",
        "device = torch.device('cuda:0' if torch.cuda.is_available() else 'cpu')\n",
        "\n",
        "#def imshow(inp, title=None):\n",
        "    \n",
        "  #  inp = inp.cpu() if device else inp\n",
        "  #  inp = inp.numpy().transpose((1, 2, 0))\n",
        "    \n",
        " #   mean = np.array([0.485, 0.456, 0.406])\n",
        " #   std = np.array([0.229, 0.224, 0.225])\n",
        " #   inp = std * inp + mean\n",
        " #   inp = np.clip(inp, 0, 1)\n",
        "    \n",
        "  #  plt.imshow(inp)\n",
        "  #  if title is not None:\n",
        "  ##   plt.pause(0.001)\n",
        "    \n",
        "#images, labels = next(iter(train_dataloader)) \n",
        "#print(\"images-size:\", images.shape)\n",
        "\n",
        "#out = torchvision.utils.make_grid(images)\n",
        "#print(\"out-size:\", out.shape)\n",
        "\n",
        "#imshow(out, title=[train_dataset.classes[x] for x in labels])"
      ],
      "metadata": {
        "id": "JdoDNuo1Ipu5"
      },
      "execution_count": 3,
      "outputs": []
    },
    {
      "cell_type": "code",
      "source": [
        "class VGG16_model(nn.Module):\n",
        "    def __init__(self):\n",
        "        super(VGG16_model, self).__init__()\n",
        "        self.layer1 = nn.Sequential(\n",
        "            nn.Conv2d(3, 64, kernel_size=3, padding=1),\n",
        "            nn.ReLU()\n",
        "            )\n",
        "        self.layer2 = nn.Sequential(\n",
        "            nn.Conv2d(64, 64, kernel_size=3, padding=1),\n",
        "            nn.ReLU()\n",
        "            )\n",
        "        self.layer3 = nn.Sequential(\n",
        "            nn.Conv2d(64, 128, kernel_size=3, padding=1),\n",
        "            nn.ReLU()\n",
        "            )\n",
        "        self.layer4 = nn.Sequential(\n",
        "            nn.Conv2d(128, 128, kernel_size=3, padding=1),\n",
        "            nn.ReLU()\n",
        "            )\n",
        "        self.layer5 = nn.Sequential(\n",
        "            nn.Conv2d(128, 256, kernel_size=3, padding=1),\n",
        "            nn.ReLU()\n",
        "            )\n",
        "        self.layer6 = nn.Sequential(\n",
        "            nn.Conv2d(256, 256, kernel_size=3, padding=1),\n",
        "            nn.ReLU()\n",
        "            )\n",
        "        self.layer7 = nn.Sequential(\n",
        "            nn.Conv2d(256, 256, kernel_size=3, padding=1),\n",
        "            nn.ReLU()\n",
        "            )\n",
        "        self.layer8 = nn.Sequential(\n",
        "            nn.Conv2d(256, 512, kernel_size=3, padding=1),\n",
        "            nn.ReLU()\n",
        "            )\n",
        "        self.layer9 = nn.Sequential(\n",
        "            nn.Conv2d(512, 512, kernel_size=3, padding=1),\n",
        "            nn.ReLU()\n",
        "            )\n",
        "        self.layer10 = nn.Sequential(\n",
        "            nn.Conv2d(512, 512, kernel_size=3, padding=1),\n",
        "            nn.ReLU()\n",
        "            )\n",
        "        self.layer11 = nn.Sequential(\n",
        "            nn.Conv2d(512, 512, kernel_size=3, padding=1),\n",
        "            nn.ReLU()\n",
        "            )\n",
        "        self.layer12 = nn.Sequential(\n",
        "            nn.Conv2d(512, 512, kernel_size=3, padding=1),\n",
        "            nn.ReLU()\n",
        "            )\n",
        "        self.layer13 = nn.Sequential(\n",
        "            nn.Conv2d(512, 512, kernel_size=3, padding=1),\n",
        "            nn.ReLU()\n",
        "            )\n",
        "        \n",
        "        \n",
        "        \n",
        "        self.maxpool = nn.MaxPool2d(kernel_size=2, stride=2)\n",
        "\n",
        "        self.fc1 = nn.Sequential(\n",
        "            nn.Linear(25088, 4096),\n",
        "            nn.ReLU()\n",
        "            )\n",
        "        \n",
        "        self.fc2 = nn.Sequential(\n",
        "            nn.Linear(4096, 4096),\n",
        "            nn.ReLU()\n",
        "            )\n",
        "        \n",
        "        self.fc3 = nn.Sequential(\n",
        "            nn.Linear(4096, 131)\n",
        "            \n",
        "            )\n",
        "        \n",
        "\n",
        "    def forward(self, x):\n",
        "        out = self.layer1(x)\n",
        "        out = self.layer2(out)\n",
        "\n",
        "        out = self.maxpool(out)\n",
        "\n",
        "        out = self.layer3(out)\n",
        "        out = self.layer4(out)\n",
        "\n",
        "        out = self.maxpool(out)\n",
        "\n",
        "        out = self.layer5(out)\n",
        "        out = self.layer6(out)\n",
        "        out = self.layer7(out)\n",
        "\n",
        "        out = self.maxpool(out)\n",
        "\n",
        "        out = self.layer8(out)\n",
        "        out = self.layer9(out)\n",
        "        out = self.layer10(out)\n",
        "\n",
        "        out = self.maxpool(out)\n",
        "\n",
        "        out = self.layer11(out)\n",
        "        out = self.layer12(out)\n",
        "        out = self.layer13(out)\n",
        "\n",
        "        out = self.maxpool(out)\n",
        "\n",
        "        out = out.reshape(out.size(0), -1)\n",
        "        out = self.fc1(out)\n",
        "        out = F.dropout(out, 0.5) #reduce overfitting\n",
        "        out = self.fc2(out)\n",
        "        out = F.dropout(out, 0.5)\n",
        "        out = self.fc3(out)\n",
        "\n",
        "        return out\n",
        "        "
      ],
      "metadata": {
        "id": "hxNqCJfGLmNo"
      },
      "execution_count": 4,
      "outputs": []
    },
    {
      "cell_type": "code",
      "source": [
        "device = torch.device('cuda' if torch.cuda.is_available() else 'cpu') \n",
        "print(device)\n",
        "model = VGG16_model() \n",
        "model = model.to(device=device)\n",
        "\n",
        "## Loss and optimizer\n",
        "learning_rate=0.01\n",
        "load_model = True\n",
        "criterion = nn.CrossEntropyLoss()\n",
        "optimizer = optim.Adam(model.parameters(), lr= learning_rate)#, momentum=0.9) \n",
        "\n",
        "#def accuracy(out, labels):\n",
        "  #  _,pred = torch.max(out, dim=1)\n",
        " #   return torch.sum(pred==labels).item()"
      ],
      "metadata": {
        "colab": {
          "base_uri": "https://localhost:8080/"
        },
        "id": "uogWYUJ0Ixt5",
        "outputId": "114b1191-065f-48bb-97dd-2889b8c8d145"
      },
      "execution_count": 5,
      "outputs": [
        {
          "output_type": "stream",
          "name": "stdout",
          "text": [
            "cuda\n"
          ]
        }
      ]
    },
    {
      "cell_type": "code",
      "source": [
        ""
      ],
      "metadata": {
        "id": "yqr8vVQXcFjp"
      },
      "execution_count": 5,
      "outputs": []
    },
    {
      "cell_type": "code",
      "source": [
        "for epoch in range(1): \n",
        "    running_loss = 0.0\n",
        "    correct = 0\n",
        "    total=0\n",
        "    for batch_idx, (data_, target_) in enumerate(train_dataloader):\n",
        "        data_, target_ = data_.to(device), target_.to(device)\n",
        "        \n",
        "        ## Forward Pass\n",
        "        \n",
        "        outp = model(data_)\n",
        "        loss = criterion(outp,target_)\n",
        "        optimizer.zero_grad()\n",
        "        loss.backward()\n",
        "        optimizer.step()\n",
        "        running_loss += loss.item()\n",
        "\n",
        "        _,pred = torch.max(outp, dim=1)\n",
        "        correct += torch.sum(pred==target_).item()\n",
        "        total += target_.size(0)\n",
        "    print(f\"Loss in epoch {epoch} : {running_loss/len(train_dataloader)}\")\n",
        "\n",
        "   "
      ],
      "metadata": {
        "id": "UL_mZ8YoOPP8"
      },
      "execution_count": null,
      "outputs": []
    },
    {
      "cell_type": "code",
      "source": [
        "torch.save(model.state_dict(), 'vgg.pt')"
      ],
      "metadata": {
        "id": "I6VN_sk7JR-_"
      },
      "execution_count": null,
      "outputs": []
    },
    {
      "cell_type": "code",
      "source": [
        "def accuracy(out, labels):\n",
        "    _,pred = torch.max(out, dim=1)\n",
        "    return torch.sum(pred==labels).item()"
      ],
      "metadata": {
        "id": "4v_e-1TtHdDM"
      },
      "execution_count": null,
      "outputs": []
    }
  ]
}
