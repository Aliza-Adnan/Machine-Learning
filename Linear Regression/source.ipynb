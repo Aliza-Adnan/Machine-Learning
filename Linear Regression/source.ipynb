{
 "cells": [
  {
   "cell_type": "code",
   "execution_count": 105,
   "metadata": {},
   "outputs": [
    {
     "name": "stdout",
     "output_type": "stream",
     "text": [
      "Populating the interactive namespace from numpy and matplotlib\n"
     ]
    }
   ],
   "source": [
    "%pylab inline\n",
    "plt.style.use('ggplot')\n",
    "plt.rcParams['image.interpolation'] = 'nearest'"
   ]
  },
  {
   "cell_type": "markdown",
   "metadata": {},
   "source": [
    "### Let's generate some random data"
   ]
  },
  {
   "cell_type": "code",
   "execution_count": 106,
   "metadata": {},
   "outputs": [],
   "source": [
    "X = np.arange(0,5,0.1, dtype=np.float32)\n",
    "delta = np.random.uniform(-1,1, size=X.shape[0])\n",
    "Y = .4 * X + 3 + delta\n",
    "\n",
    "#making a copy for later use\n",
    "rx = X\n",
    "ry = Y"
   ]
  },
  {
   "cell_type": "code",
   "execution_count": 107,
   "metadata": {
    "internals": {
     "frag_helper": "fragment_end",
     "frag_number": 16,
     "slide_helper": "subslide_end"
    },
    "slide_helper": "slide_end",
    "slideshow": {
     "slide_type": "fragment"
    }
   },
   "outputs": [
    {
     "data": {
      "text/plain": [
       "Text(0, 0.5, 'Y')"
      ]
     },
     "execution_count": 107,
     "metadata": {},
     "output_type": "execute_result"
    },
    {
     "data": {
      "image/png": "[encoded data removed]",
      "text/plain": [
       "<Figure size 432x288 with 1 Axes>"
      ]
     },
     "metadata": {},
     "output_type": "display_data"
    }
   ],
   "source": [
    "plt.scatter(X,Y)\n",
    "plt.xlabel('X')\n",
    "plt.ylabel('Y')"
   ]
  },
  {
   "cell_type": "markdown",
   "metadata": {},
   "source": [
    "### Implement functions for each of these"
   ]
  },
  {
   "cell_type": "markdown",
   "metadata": {},
   "source": [
    "$$\n",
    "h(X, \\theta) = X . \\theta\n",
    "$$"
   ]
  },
  {
   "cell_type": "markdown",
   "metadata": {},
   "source": [
    "$$\n",
    "cost = \\frac{1}{2m} \\sum_{i = 0}^m{(h(X^i, \\theta)-Y^i)}^2\n",
    "$$"
   ]
  },
  {
   "cell_type": "markdown",
   "metadata": {},
   "source": [
    "$$\n",
    "\\frac{\\delta}{\\delta \\theta_j} = \\frac{1}{m} \\sum_{i = 0}^m{(h(X^i, \\theta)-Y^i)} * X_j\n",
    "$$"
   ]
  },
  {
   "cell_type": "code",
   "execution_count": 108,
   "metadata": {},
   "outputs": [],
   "source": [
    "def hyp(theta,X):\n",
    "     \n",
    "    f=np.dot(X,theta)\n",
    "    return f\n"
   ]
  },
  {
   "cell_type": "code",
   "execution_count": 109,
   "metadata": {},
   "outputs": [],
   "source": [
    "def cost_function(theta,X,Y):\n",
    "    h=1/(2*len(X))\n",
    "    m=0\n",
    "    c=0\n",
    "    g=0\n",
    "    for i in range(len(X)):\n",
    "        c+=((hyp(X[i],theta)-Y[i])**2)\n",
    "        #m+=c\n",
    "    g=c*h\n",
    "    return g\n",
    "        \n",
    "    "
   ]
  },
  {
   "cell_type": "code",
   "execution_count": 126,
   "metadata": {},
   "outputs": [
    {
     "name": "stdout",
     "output_type": "stream",
     "text": [
      "7.556600536811317\n"
     ]
    }
   ],
   "source": [
    "def derivative_cost_function(theta,X,Y,x):\n",
    "    c=0\n",
    "    m=0\n",
    "    for i in range(len(X)):\n",
    "        c=(hyp(X[i],theta)-Y[i])\n",
    "        \n",
    "        k=np.dot(c,X[i])\n",
    "        m+=k\n",
    "    g=m/len(X)\n",
    "    return g\n",
    "#p=[]\n",
    "s=[]\n",
    "\n",
    "p=cost_function(2.5,X,Y)\n",
    "print(p)\n"
   ]
  },
  {
   "cell_type": "code",
   "execution_count": 143,
   "metadata": {},
   "outputs": [],
   "source": [
    "def gradientdescent(X,Y,p):\n",
    "    alpha=0.01\n",
    "    theta=2.5\n",
    "    d=6\n",
    "    n=0\n",
    "    hj=[]\n",
    "    while(d!=0):\n",
    "        l=round(theta,5)\n",
    "        hypo=hyp(theta,X)\n",
    "        loss=hypo.T-Y\n",
    "        cost=np.sum(loss**2)/(2*len(X))\n",
    "        #print(i)\n",
    "        print(cost)\n",
    "        \n",
    "        grad=np.dot(loss.T,X.T)/len(X)\n",
    "        theta=theta-alpha*grad\n",
    "        n=round(theta,5)\n",
    "        d=n-l\n",
    "        hj.append(theta)\n",
    "        #print(theta)\n",
    "    return hj"
   ]
  },
  {
   "cell_type": "code",
   "execution_count": 146,
   "metadata": {
    "scrolled": false
   },
   "outputs": [
    {
     "name": "stdout",
     "output_type": "stream",
     "text": [
      "7.556600536811317\n",
      "6.58059428375029\n",
      "5.756028365195074\n",
      "5.059404801657006\n",
      "4.470871637290014\n",
      "3.973657210892141\n",
      "3.55359220727578\n",
      "3.198705868716465\n",
      "2.8988848595588905\n",
      "2.6455850625106545\n",
      "2.4315880935692364\n",
      "2.250795596892293\n",
      "2.098055457551204\n",
      "1.9690149796843448\n",
      "1.8599968460101153\n",
      "1.7678943238691576\n",
      "1.690082731441109\n",
      "1.624344641153827\n",
      "1.5688066887771945\n",
      "1.5218861874253957\n",
      "1.482246025105864\n",
      "1.4487565605126085\n",
      "1.4204634311933506\n",
      "1.3965603567071299\n",
      "1.3763661617332659\n",
      "1.3593053643501714\n",
      "1.3448917763005506\n",
      "1.332714647893291\n",
      "1.3224269627078675\n",
      "1.3137355485308364\n",
      "1.306392722711892\n",
      "1.3001892338539063\n",
      "1.2949482986935121\n",
      "1.2905205642388753\n",
      "1.2867798515987101\n",
      "1.283619560212753\n",
      "1.2809496300136471\n",
      "1.2786939749497583\n",
      "1.2767883147310193\n",
      "1.275178343008204\n",
      "1.2738181797835246\n",
      "1.2726690639502751\n",
      "1.2716982487023216\n",
      "1.270878068335479\n",
      "1.270185149847052\n",
      "1.2695997468661777\n",
      "1.2691051769337252\n",
      "1.2686873460956918\n",
      "1.2683343472622486\n",
      "1.2680361208867166\n",
      "1.2677841682947053\n",
      "1.267571309494044\n",
      "1.2673914785637208\n",
      "1.2672395507909406\n",
      "1.2671111966301722\n",
      "1.2670027583223824\n",
      "1.2669111456584377\n",
      "1.2668337479162002\n",
      "1.2667683594617491\n",
      "1.2667131168945645\n",
      "1.2666664459454686\n",
      "1.2666270166140576\n",
      "1.266593705267157\n",
      "1.2665655626182042\n",
      "1.2665417866750568\n",
      "1.2665216998853064\n",
      "1.2665047298277992\n",
      "1.2664903929001283\n",
      "1.2664782805372239\n",
      "1.2664680475683132\n",
      "1.266459402380454\n",
      "1.2664520986083259\n",
      "1.2664459281134597\n",
      "1.2664407150528354\n",
      "1.2664363108678118\n",
      "1.266432590050596\n",
      "1.2664294465675945\n",
      "1.2664267908377362\n",
      "1.2664245471796418\n",
      "1.266422651654903\n",
      "1.2664210502460058\n",
      "1.2664196973169706\n",
      "1.2664185543128463\n",
      "1.2664175886609947\n",
      "1.2664167728428544\n",
      "1.2664160836097351\n",
      "1.2664155013202896\n",
      "1.266415009380786\n",
      "1.2664145937722309\n",
      "1.2664142426508633\n",
      "1.2664139460106407\n",
      "1.2664136953980882\n",
      "1.2664134836714025\n",
      "1.2664133047969244\n",
      "1.2664131536771972\n",
      "1.2664130260057034\n",
      "1.2664129181441377\n",
      "1.2664128270187265\n",
      "1.2664127500326332\n",
      "1.2664126849919553\n",
      "1.2664126300432021\n",
      "1.266412583620478\n",
      "1.266412544400856\n",
      "1.2664125112666798\n",
      "1.2664124832737107\n",
      "1.2664124596242226\n",
      "1.2664124396442669\n",
      "1.2664124227644669\n",
      "1.2664124085037918\n",
      "1.2664123964558498\n",
      "1.266412386277306\n",
      "1.2664123776780989\n"
     ]
    }
   ],
   "source": [
    "e=gradientdescent(X,Y,p)"
   ]
  },
  {
   "cell_type": "code",
   "execution_count": null,
   "metadata": {},
   "outputs": [],
   "source": []
  },
  {
   "cell_type": "code",
   "execution_count": 152,
   "metadata": {},
   "outputs": [
    {
     "data": {
      "text/plain": [
       "Text(0, 0.5, 'Y')"
      ]
     },
     "execution_count": 152,
     "metadata": {},
     "output_type": "execute_result"
    },
    {
     "data": {
      "image/png": "[encoded data removed]",
      "text/plain": [
       "<Figure size 432x288 with 1 Axes>"
      ]
     },
     "metadata": {},
     "output_type": "display_data"
    }
   ],
   "source": [
    "plt.scatter(Y,e[:50])\n",
    "plt.xlabel('X')\n",
    "plt.ylabel('Y')\n",
    "#plt.plot(e[:50],Y)"
   ]
  },
  {
   "cell_type": "code",
   "execution_count": null,
   "metadata": {},
   "outputs": [],
   "source": []
  }
 ],
 "metadata": {
  "kernelspec": {
   "display_name": "Python 3",
   "language": "python",
   "name": "python3"
  },
  "language_info": {
   "codemirror_mode": {
    "name": "ipython",
    "version": 3
   },
   "file_extension": ".py",
   "mimetype": "text/x-python",
   "name": "python",
   "nbconvert_exporter": "python",
   "pygments_lexer": "ipython3",
   "version": "3.7.4"
  }
 },
 "nbformat": 4,
 "nbformat_minor": 1
}
