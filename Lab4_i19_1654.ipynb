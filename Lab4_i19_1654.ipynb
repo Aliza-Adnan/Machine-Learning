{
  "cells": [
    {
      "cell_type": "code",
      "execution_count": null,
      "metadata": {
        "id": "am2FC-y4HoYi"
      },
      "outputs": [],
      "source": [
        "import numpy as np\n",
        "import math\n",
        "\n",
        "import random\n"
      ]
    },
    {
      "cell_type": "code",
      "execution_count": null,
      "metadata": {
        "id": "BKrrMRW_HoYq"
      },
      "outputs": [],
      "source": [
        "def _dist(p,q):\n",
        "    return math.sqrt(np.power(p-q,2).sum())"
      ]
    },
    {
      "cell_type": "code",
      "execution_count": null,
      "metadata": {
        "id": "MQQks23aHoYs"
      },
      "outputs": [],
      "source": [
        "data = np.random.randint(low=0, high=6, size=(2,20))\n"
      ]
    },
    {
      "cell_type": "code",
      "execution_count": null,
      "metadata": {
        "id": "fnTRi0n6HoYt",
        "outputId": "23f2eb77-1b03-485f-bc87-da9a2fbfd65e"
      },
      "outputs": [
        {
          "data": {
            "text/plain": [
              "array([[5, 0, 0, 2, 0, 4, 3, 3, 1, 1, 4, 2, 5, 0, 2, 0, 3, 2, 3, 2],\n",
              "       [2, 4, 4, 4, 5, 2, 0, 4, 2, 1, 4, 3, 3, 3, 0, 1, 0, 0, 0, 5]])"
            ]
          },
          "execution_count": 6,
          "metadata": {},
          "output_type": "execute_result"
        }
      ],
      "source": [
        "data"
      ]
    },
    {
      "cell_type": "code",
      "execution_count": null,
      "metadata": {
        "id": "-nAbAi0aHoYw",
        "outputId": "af4b4976-086a-425d-a723-cdb2762bbde1"
      },
      "outputs": [
        {
          "name": "stdout",
          "output_type": "stream",
          "text": [
            "20\n"
          ]
        },
        {
          "data": {
            "text/plain": [
              "array([5, 2])"
            ]
          },
          "execution_count": 13,
          "metadata": {},
          "output_type": "execute_result"
        }
      ],
      "source": [
        "# accessing single data point\n",
        "print(len(data[0]))\n",
        "data[:,0]"
      ]
    },
    {
      "cell_type": "code",
      "execution_count": null,
      "metadata": {
        "id": "hFPpKo-XHoYy"
      },
      "outputs": [],
      "source": [
        "def done_eps(m,data,eps,minpts):\n",
        "    lis=[]\n",
        "    for i in range(len(data[0])):\n",
        "        lis.append(_dist(data[:,m],data[:,i]))\n",
        "    #print(lis)\n",
        "    jum=[]\n",
        "    jumi=[]\n",
        "    for i in range(len(data[0])):\n",
        "        if lis[i]<=eps:\n",
        "            #jum.append(lis[i])\n",
        "            jumi.append(i)\n",
        "    return jumi\n"
      ]
    },
    {
      "cell_type": "code",
      "execution_count": null,
      "metadata": {
        "id": "hOuiprulHoYz"
      },
      "outputs": [],
      "source": [
        "def comp(a,b):\n",
        "    s=[]\n",
        "    for i in a:\n",
        "        for j in b:\n",
        "            if i!=j:\n",
        "                s.append(b)\n",
        "        s.append(a)\n",
        "    return list(dict.fromkeys(s))"
      ]
    },
    {
      "cell_type": "code",
      "execution_count": null,
      "metadata": {
        "id": "KM8ow6eBHoYz"
      },
      "outputs": [],
      "source": [
        "def dbscan(data, eps, min_points):\n",
        "    # Data is the 2D array as shown above eps =5 min_points=4\n",
        "    # initiliaze the cluster id = 1\n",
        "    cluster=np.zeros(len(data[0]))\n",
        "    k=2\n",
        "    # Define a boolean array named classification = size of the data i.e 20\n",
        "    #for point in data:\n",
        "    core=[]\n",
        "    border=[]\n",
        "    out=[]\n",
        "\n",
        "    for i in range(len(data[0])):\n",
        "        a=done_eps(i,data,eps,min_points)\n",
        "        if len(a)>=min_points:\n",
        "            core.append(data[:,i])\n",
        "            cluster[i]=k\n",
        "            for j in a:\n",
        "                b=done_eps(j,data,eps,min_points)\n",
        "                #if cluster[j]==0 or cluster[j]==1:\n",
        "                if len(b)>=min_points:\n",
        "                    core.append(data[:,j])\n",
        "                    if cluster[j]==0:\n",
        "                        f=set(a) ^ set(b)\n",
        "                        for p in f:\n",
        "                            #print(p)\n",
        "                            a.append(p)\n",
        "                    cluster[j]=k\n",
        "            else:\n",
        "                cluster[j]=1\n",
        "\n",
        "        else:\n",
        "            cluster[i]=0\n",
        "        k+=1\n",
        "        a=[]\n",
        "\n",
        "    return cluster\n",
        "\n",
        "\n",
        "    #  if point is unclassified:\n",
        "    #    find whether the point is a core point,border point or noise\n",
        "    #    if point is noise set hte classification Array value=NOISE"
      ]
    },
    {
      "cell_type": "code",
      "execution_count": null,
      "metadata": {
        "id": "ZXOs4xDFHoY1",
        "outputId": "f1ad2dd7-a85c-4337-a37b-c5dfbe253266"
      },
      "outputs": [
        {
          "data": {
            "text/plain": [
              "array([21., 21., 21., 21., 21., 21., 20., 21., 21., 21., 21., 21., 21.,\n",
              "       21., 21., 21., 20., 21.,  1.,  1.])"
            ]
          },
          "execution_count": 51,
          "metadata": {},
          "output_type": "execute_result"
        }
      ],
      "source": [
        "dbscan(data,5,4)"
      ]
    },
    {
      "cell_type": "code",
      "execution_count": null,
      "metadata": {
        "id": "i-lsCM-6HoY2"
      },
      "outputs": [],
      "source": []
    }
  ],
  "metadata": {
    "kernelspec": {
      "display_name": "Python 3",
      "language": "python",
      "name": "python3"
    },
    "language_info": {
      "codemirror_mode": {
        "name": "ipython",
        "version": 3
      },
      "file_extension": ".py",
      "mimetype": "text/x-python",
      "name": "python",
      "nbconvert_exporter": "python",
      "pygments_lexer": "ipython3",
      "version": "3.7.4"
    },
    "colab": {
      "provenance": []
    }
  },
  "nbformat": 4,
  "nbformat_minor": 0
}